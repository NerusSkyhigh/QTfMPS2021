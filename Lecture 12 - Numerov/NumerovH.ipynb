{
 "cells": [
  {
   "cell_type": "markdown",
   "metadata": {},
   "source": [
    "Numerov Method\n",
    "=========================\n"
   ]
  },
  {
   "cell_type": "markdown",
   "metadata": {},
   "source": [
    "### Atomic units\n",
    "\n",
    "$$ m = \\hbar = e = 1 \n",
    "\\,, \\qquad \n",
    "4\\pi\\varepsilon_0 = 1\n",
    "\\,, \\qquad \n",
    "a_0 = \\frac{4\\pi \\epsilon_0 \\hbar^2}{m e^2} = 1\n",
    "$$\n"
   ]
  },
  {
   "cell_type": "markdown",
   "metadata": {},
   "source": [
    "### Radial equation for hydrogen atom\n",
    "\n",
    "$$\n",
    "-\\frac12 \\frac{d^2 u(r)}{dr^2}  + V(r)\\, u(r) = E \\, u(r)\n",
    "\\,, \\qquad\n",
    "V(r) = \\left( - \\frac{1}{r} +  \\frac{l(l+1)}{2 r^2}\\right)\n",
    "$$"
   ]
  },
  {
   "cell_type": "markdown",
   "metadata": {},
   "source": [
    "## Matrix approach\n",
    "\n",
    "Suitable for discrete spectrum. Gives many eigenvalues and eigenfunctions in one shot"
   ]
  },
  {
   "cell_type": "markdown",
   "metadata": {},
   "source": [
    "### Notation\n",
    "\n",
    "See lecture notes\n",
    "\n",
    "$$\n",
    "\\left(-\\frac{1}{2} B^{-1} A + V \\right) u = E \\, u\n",
    "$$\n",
    "\n",
    "$$\n",
    "A_{ij} = \\frac{1}{\\Delta r^2} \\left( \\delta_{i+1,j}  -2 \\, \\delta_{i,j} + \\delta_{i-1,j} \\right)\n",
    "\\,, \\qquad\n",
    "B_{ij} = \\frac{1}{12} \\left( \\delta_{i+1,j} + 10 \\, \\delta_{i,j} + \\delta_{i-1,j} \\right)\n",
    "\\,, \\qquad\n",
    "V = \\mathrm{diag}(V_0, V_1, \\dots, V_{N-1})\n",
    "$$"
   ]
  },
  {
   "cell_type": "code",
   "execution_count": 1,
   "metadata": {
    "ExecuteTime": {
     "end_time": "2021-04-18T13:43:04.165420Z",
     "start_time": "2021-04-18T13:43:01.288426Z"
    }
   },
   "outputs": [],
   "source": [
    "import math\n",
    "import numpy as np\n",
    "from matplotlib import pyplot as plt"
   ]
  },
  {
   "cell_type": "code",
   "execution_count": 2,
   "metadata": {
    "ExecuteTime": {
     "end_time": "2021-04-18T13:43:04.180574Z",
     "start_time": "2021-04-18T13:43:04.167417Z"
    }
   },
   "outputs": [],
   "source": [
    "def mat_sandwich(n,diag_val):\n",
    "    mat = diag_val * np.eye(n) \n",
    "    mat += np.eye(n,k=1)\n",
    "    mat += np.eye(n,k=-1)\n",
    "    return mat"
   ]
  },
  {
   "cell_type": "code",
   "execution_count": 3,
   "metadata": {
    "ExecuteTime": {
     "end_time": "2021-04-18T13:43:04.195816Z",
     "start_time": "2021-04-18T13:43:04.182569Z"
    }
   },
   "outputs": [],
   "source": [
    "# s in atomic units ( Bohr radius is a0 = 5.29177⋅10−11m )\n",
    "l = 1\n",
    "def V(s):\n",
    "    return -1/s + l*(l+1)/(2 * s**2)"
   ]
  },
  {
   "cell_type": "code",
   "execution_count": 4,
   "metadata": {
    "ExecuteTime": {
     "end_time": "2021-04-18T13:43:05.271397Z",
     "start_time": "2021-04-18T13:43:04.196815Z"
    }
   },
   "outputs": [],
   "source": [
    "dr = 0.05\n",
    "npt = 1005\n",
    "rgrid = np.arange(1,npt+1) * dr\n",
    "B = mat_sandwich(npt,10)/12\n",
    "Binv = np.linalg.inv(B)\n",
    "A = mat_sandwich(npt,-2)/(dr**2)\n",
    "KE = - Binv @ A / 2\n",
    "H = KE + np.diag(V(rgrid))"
   ]
  },
  {
   "cell_type": "code",
   "execution_count": 5,
   "metadata": {
    "ExecuteTime": {
     "end_time": "2021-04-18T13:43:05.620891Z",
     "start_time": "2021-04-18T13:43:05.273392Z"
    }
   },
   "outputs": [],
   "source": [
    "w, v = np.linalg.eigh(H) # solve eigensystem"
   ]
  },
  {
   "cell_type": "code",
   "execution_count": 6,
   "metadata": {
    "ExecuteTime": {
     "end_time": "2021-04-18T13:43:05.636849Z",
     "start_time": "2021-04-18T13:43:05.622884Z"
    }
   },
   "outputs": [
    {
     "name": "stdout",
     "output_type": "stream",
     "text": [
      "[-0.12500037 -0.05555568 -0.03121948 -0.01825947 -0.00361426  0.01597395]\n",
      "[-0.125, -0.05555555555555555, -0.03125, -0.02, -0.013888888888888888, -0.01020408163265306]\n"
     ]
    }
   ],
   "source": [
    "# Compare first few eigenvalues with exact solution\n",
    "print(w[0:6])\n",
    "print([-1/(2*n**2) for n in range(l+1,6+l+1)])"
   ]
  },
  {
   "cell_type": "code",
   "execution_count": 7,
   "metadata": {
    "ExecuteTime": {
     "end_time": "2021-04-18T13:43:06.123687Z",
     "start_time": "2021-04-18T13:43:05.638842Z"
    }
   },
   "outputs": [
    {
     "data": {
      "image/png": "[encoded data removed]",
      "text/plain": [
       "<Figure size 432x288 with 1 Axes>"
      ]
     },
     "metadata": {
      "needs_background": "light"
     },
     "output_type": "display_data"
    }
   ],
   "source": [
    "for n in range(0,4):\n",
    "    ln, = plt.plot(rgrid, w[n]*np.ones(len(rgrid)),ls='dotted')\n",
    "    plt.plot(rgrid, w[n] + np.sign(v[0,n]) * v[:,n], color=ln.get_color(), label='E='+'{:.5f}'.format(w[n]))\n",
    "plt.plot(rgrid,V(rgrid),color='black',ls='dashed')\n",
    "plt.xlim(0,40)\n",
    "plt.ylim(2*w[0], 0.3)\n",
    "plt.axhline(0,color='black',lw=0.5)\n",
    "plt.legend()\n",
    "plt.show()"
   ]
  },
  {
   "cell_type": "markdown",
   "metadata": {},
   "source": [
    "### Shooting approach\n",
    "\n",
    "Suitable for both continuous and discrete specturm, but needs more (programming) work (e.g. bisection routine) to find the discrete eigenvalues. Moreover one should pay attention to the identification of the energy levels (is the solution the ground state? Are there more solutions in the considered energy window?). Resolving (quasi-)degenerate energy levels might be tricky."
   ]
  },
  {
   "cell_type": "code",
   "execution_count": 8,
   "metadata": {
    "ExecuteTime": {
     "end_time": "2021-04-18T13:43:06.139643Z",
     "start_time": "2021-04-18T13:43:06.126766Z"
    }
   },
   "outputs": [],
   "source": [
    "def numerov(u, V, E, dr):\n",
    "    for n in range(1,len(u)-1):\n",
    "        u[n+1] = u[n-1] - 2*u[n] - dr**2/6 * (10*(V[n]-E)*u[n] + (V[n-1]-E)*u[n-1])\n",
    "        u[n+1] /= dr**2/6 * (V[n+1] - E) - 1\n",
    "    return u"
   ]
  },
  {
   "cell_type": "code",
   "execution_count": 9,
   "metadata": {
    "ExecuteTime": {
     "end_time": "2021-04-18T13:43:06.154652Z",
     "start_time": "2021-04-18T13:43:06.141638Z"
    }
   },
   "outputs": [],
   "source": [
    "dr = 0.05\n",
    "npt = 2005\n",
    "rgrid = np.arange(1,npt+1) * dr - dr/10\n",
    "u = np.zeros(npt)\n",
    "u[1] = 1e-4"
   ]
  },
  {
   "cell_type": "code",
   "execution_count": 10,
   "metadata": {
    "ExecuteTime": {
     "end_time": "2021-04-18T13:43:06.169587Z",
     "start_time": "2021-04-18T13:43:06.156599Z"
    }
   },
   "outputs": [],
   "source": [
    "E = - 0.124995\n",
    "u = numerov(u, V(rgrid), E, dr)"
   ]
  },
  {
   "cell_type": "code",
   "execution_count": 11,
   "metadata": {
    "ExecuteTime": {
     "end_time": "2021-04-18T13:43:06.276278Z",
     "start_time": "2021-04-18T13:43:06.171560Z"
    }
   },
   "outputs": [
    {
     "data": {
      "image/png": "[encoded data removed]",
      "text/plain": [
       "<Figure size 432x288 with 1 Axes>"
      ]
     },
     "metadata": {
      "needs_background": "light"
     },
     "output_type": "display_data"
    }
   ],
   "source": [
    "plt.plot(rgrid, E + u, label='E = '+str(E))\n",
    "plt.plot(rgrid,V(rgrid),color='black',ls='dashed')\n",
    "plt.ylim(-0.3,0.2)\n",
    "plt.axhline(0,color='black',lw=0.5)\n",
    "plt.legend()\n",
    "plt.show()"
   ]
  }
 ],
 "metadata": {
  "kernelspec": {
   "display_name": "Python 3",
   "language": "python",
   "name": "python3"
  },
  "language_info": {
   "codemirror_mode": {
    "name": "ipython",
    "version": 3
   },
   "file_extension": ".py",
   "mimetype": "text/x-python",
   "name": "python",
   "nbconvert_exporter": "python",
   "pygments_lexer": "ipython3",
   "version": "3.7.9"
  },
  "latex_envs": {
   "LaTeX_envs_menu_present": true,
   "autoclose": false,
   "autocomplete": true,
   "bibliofile": "biblio.bib",
   "cite_by": "apalike",
   "current_citInitial": 1,
   "eqLabelWithNumbers": true,
   "eqNumInitial": 1,
   "hotkeys": {
    "equation": "Ctrl-E",
    "itemize": "Ctrl-I"
   },
   "labels_anchors": false,
   "latex_user_defs": false,
   "report_style_numbering": false,
   "user_envs_cfg": false
  },
  "varInspector": {
   "cols": {
    "lenName": 16,
    "lenType": 16,
    "lenVar": 40
   },
   "kernels_config": {
    "python": {
     "delete_cmd_postfix": "",
     "delete_cmd_prefix": "del ",
     "library": "var_list.py",
     "varRefreshCmd": "print(var_dic_list())"
    },
    "r": {
     "delete_cmd_postfix": ") ",
     "delete_cmd_prefix": "rm(",
     "library": "var_list.r",
     "varRefreshCmd": "cat(var_dic_list()) "
    }
   },
   "types_to_exclude": [
    "module",
    "function",
    "builtin_function_or_method",
    "instance",
    "_Feature"
   ],
   "window_display": false
  }
 },
 "nbformat": 4,
 "nbformat_minor": 4
}
