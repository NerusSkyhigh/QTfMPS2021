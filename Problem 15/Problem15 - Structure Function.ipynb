{
 "cells": [
  {
   "cell_type": "code",
   "execution_count": 31,
   "id": "fluid-battle",
   "metadata": {
    "ExecuteTime": {
     "end_time": "2021-06-19T16:46:44.388797Z",
     "start_time": "2021-06-19T16:46:44.371754Z"
    }
   },
   "outputs": [],
   "source": [
    "import numpy as np\n",
    "from scipy.special import eval_genlaguerre, genlaguerre\n",
    "from scipy.integrate import quad\n",
    "from scipy.special import factorial, factorial2\n",
    "\n",
    "N = 25\n",
    "mu = 1000\n",
    "nu = 1\n",
    "\n",
    "# Parte confrontata \n",
    "omega = 2*nu/mu\n",
    "\n",
    "prefac = [np.sqrt(\n",
    "            np.sqrt( 2* np.power(nu, 3)/np.pi) * \\\n",
    "            ( np.power(2, n+3)*factorial(n)/factorial2(2*n+1))) for n in range(N)]\n",
    "\n",
    "def phi(r, n):\n",
    "    return prefac[n]*np.exp( -nu* np.power(r, 2) ) * \\\n",
    "           eval_genlaguerre(n, 0.5, 2*nu*np.power(r, 2) )\n",
    "\n",
    "def V(r):\n",
    "    return -nu*omega*np.power(r,2) + \\\n",
    "            np.power(r, -1)*(7.39*np.exp(-1*3.11*r) - 3.22*np.exp(-1.555*r))\n",
    "\n",
    "def integrand(r, i, j):\n",
    "    ret = np.power(r, 2) * V(r) * phi(r, i)  * phi(r, j)\n",
    "    return ret\n",
    "\n",
    "def norm(r, i, j):\n",
    "    ret = phi(r, i) * phi(r, j)\n",
    "    return ret"
   ]
  },
  {
   "cell_type": "code",
   "execution_count": 3,
   "id": "informative-river",
   "metadata": {
    "ExecuteTime": {
     "end_time": "2021-06-19T16:41:54.787411Z",
     "start_time": "2021-06-19T16:41:50.401997Z"
    }
   },
   "outputs": [],
   "source": [
    "H = np.zeros((N,N))\n",
    "for i in range(H.shape[0]):\n",
    "    for j in range(i, H.shape[1]):\n",
    "        int_f, err = quad(integrand, 0, 100, args=(i, j), limit=100)\n",
    "\n",
    "        H[i, j] = int_f\n",
    "        H[j, i] = H[i, j]\n",
    "\n",
    "        if i == j:\n",
    "            H[i, j] += omega*(2*i + 1.5)"
   ]
  },
  {
   "cell_type": "code",
   "execution_count": 4,
   "id": "81f68e6f",
   "metadata": {
    "ExecuteTime": {
     "end_time": "2021-06-19T16:41:55.288336Z",
     "start_time": "2021-06-19T16:41:54.789388Z"
    }
   },
   "outputs": [],
   "source": [
    "eigenvalues, eigenvectors = np.linalg.eig(H)\n",
    "idx = np.argmin(eigenvalues)\n",
    "E = eigenvalues[idx]\n",
    "c = eigenvectors[idx]\n",
    "\n",
    "def WF(r):\n",
    "    value = 0\n",
    "    for n in range(N):\n",
    "        value+=c[i]*phi(r, n)\n",
    "    return value"
   ]
  },
  {
   "cell_type": "code",
   "execution_count": 30,
   "id": "unable-thinking",
   "metadata": {
    "ExecuteTime": {
     "end_time": "2021-06-19T16:46:15.524674Z",
     "start_time": "2021-06-19T16:46:15.361402Z"
    }
   },
   "outputs": [
    {
     "data": {
      "image/png": "[encoded data removed]",
      "text/plain": [
       "<Figure size 1080x504 with 1 Axes>"
      ]
     },
     "metadata": {
      "needs_background": "light"
     },
     "output_type": "display_data"
    }
   ],
   "source": [
    "import matplotlib.pyplot as plt\n",
    "\n",
    "plt.figure(figsize=(15, 7))\n",
    "\n",
    "x = np.linspace(0.5, 4, num=100)\n",
    "plt.plot(x, np.power(x, -1)*(7.39*np.exp(-1*3.11*x) - 3.22*np.exp(-1.555*x)),\n",
    "                                             color='green', label=\"Deuteron\");\n",
    "    \n",
    "wavefunction = [WF(r) for r in x]\n",
    "plt.axhline(E, 0.07, 0.2, label=\"Ground State\")\n",
    "plt.plot(x, wavefunction, color='black', label=\"WF\");\n",
    "plt.legend()\n",
    "plt.grid();"
   ]
  },
  {
   "cell_type": "code",
   "execution_count": 45,
   "id": "d502ec0b",
   "metadata": {
    "ExecuteTime": {
     "end_time": "2021-06-19T16:57:57.509215Z",
     "start_time": "2021-06-19T16:57:57.394125Z"
    }
   },
   "outputs": [
    {
     "data": {
      "text/plain": [
       "41.650905685688016"
      ]
     },
     "execution_count": 45,
     "metadata": {},
     "output_type": "execute_result"
    }
   ],
   "source": [
    "def integrand_V(r):\n",
    "    return (WF(r))**2 * (7.39*np.exp(-1*3.11*r) - 3.22*np.exp(-1.555*r)) * r\n",
    "\n",
    "\n",
    "matrixV = 4*np.pi*137*quad(integrand_V, 0, 1000, limit=100)[0]\n",
    "matrixV"
   ]
  },
  {
   "cell_type": "code",
   "execution_count": 44,
   "id": "6293390d",
   "metadata": {
    "ExecuteTime": {
     "end_time": "2021-06-19T16:57:42.775246Z",
     "start_time": "2021-06-19T16:57:42.654134Z"
    }
   },
   "outputs": [
    {
     "data": {
      "text/plain": [
       "259999.99785831585"
      ]
     },
     "execution_count": 44,
     "metadata": {},
     "output_type": "execute_result"
    }
   ],
   "source": [
    "def integrand_V2(r):\n",
    "    return (WF(r))**2 * ((7.39*np.exp(-1*3.11*r) - 3.22*np.exp(-1.555*r)))**2\n",
    "\n",
    "\n",
    "matrixV2 = 4*np.pi*137**2 * quad(integrand_V2, 0, 1000, limit=100)[0]\n",
    "matrixV2"
   ]
  },
  {
   "cell_type": "code",
   "execution_count": 73,
   "id": "a5839749",
   "metadata": {
    "ExecuteTime": {
     "end_time": "2021-06-19T18:10:54.230262Z",
     "start_time": "2021-06-19T18:10:54.102111Z"
    }
   },
   "outputs": [
    {
     "data": {
      "text/plain": [
       "(0.0016247523007559366, 1.4031157703103887e-08)"
      ]
     },
     "execution_count": 73,
     "metadata": {},
     "output_type": "execute_result"
    }
   ],
   "source": []
  },
  {
   "cell_type": "code",
   "execution_count": 85,
   "id": "1a92ae02",
   "metadata": {
    "ExecuteTime": {
     "end_time": "2021-06-19T18:16:40.231220Z",
     "start_time": "2021-06-19T18:16:40.097629Z"
    }
   },
   "outputs": [
    {
     "name": "stdout",
     "output_type": "stream",
     "text": [
      "0.01775412136333205\n"
     ]
    }
   ],
   "source": [
    "def matrixFF(r, q=2.3):\n",
    "    return (WF(r))**2 * np.sin(0.5*q*r)*r\n",
    "    \n",
    "q = 2.3\n",
    "matrixFF =  8*np.pi/q * quad(matrixFF, 0, 100, args=(q),limit=100)[0]\n",
    "print(matrixFF)\n",
    "\n",
    "def S(q, omega):\n",
    "    hc = 137\n",
    "    h=137\n",
    "    m = 939\n",
    "    m0 = 1-(matrixFF)**2\n",
    "    m1 = h/m * q**2/4 +1-m0-E+E*m0\n",
    "    m2 = matrixV2 + 2*(1+E)*matrixV*(h*q**2/(4*m))**2 + h*q**2/(m*2)*(1+2*E) + m*(1-E**2) + E**2 +1\n",
    "    lambda1 = m1 / m0\n",
    "    lambda2 = m2/m0 - (m1/m0)**2\n",
    "    \n",
    "    #print(m0, lambda1, lambda2)\n",
    "    \n",
    "    return m0/(2*np.pi*lambda2) * \\\n",
    "                np.exp( -1*(omega+lambda1)**2 / (2*lambda2)) * \\\n",
    "                (np.exp(2*lambda1*omega/lambda2)-1)"
   ]
  },
  {
   "cell_type": "code",
   "execution_count": 93,
   "id": "09dc7692",
   "metadata": {
    "ExecuteTime": {
     "end_time": "2021-06-19T18:41:48.686409Z",
     "start_time": "2021-06-19T18:41:48.517618Z"
    }
   },
   "outputs": [
    {
     "data": {
      "image/png": "[encoded data removed]",
      "text/plain": [
       "<Figure size 720x432 with 1 Axes>"
      ]
     },
     "metadata": {
      "needs_background": "light"
     },
     "output_type": "display_data"
    }
   ],
   "source": [
    "import matplotlib.pyplot as plt\n",
    "\n",
    "plt.figure(figsize=(10, 6))\n",
    "\n",
    "x = np.linspace(0, 2000, num=5000)\n",
    "\n",
    "y = [S(2.3, omega) for omega in x]\n",
    "plt.plot(x, y, color='green', label=\"Structure Function\");\n",
    "    \n",
    "plt.xlabel(r\"$\\omega$ [MeV]\")\n",
    "plt.ylabel(r\"$S(q=2.3, \\omega)$ [MeV]\")\n",
    "plt.grid();"
   ]
  }
 ],
 "metadata": {
  "kernelspec": {
   "display_name": "Python 3",
   "language": "python",
   "name": "python3"
  },
  "language_info": {
   "codemirror_mode": {
    "name": "ipython",
    "version": 3
   },
   "file_extension": ".py",
   "mimetype": "text/x-python",
   "name": "python",
   "nbconvert_exporter": "python",
   "pygments_lexer": "ipython3",
   "version": "3.7.10"
  },
  "latex_envs": {
   "LaTeX_envs_menu_present": true,
   "autoclose": false,
   "autocomplete": true,
   "bibliofile": "biblio.bib",
   "cite_by": "apalike",
   "current_citInitial": 1,
   "eqLabelWithNumbers": true,
   "eqNumInitial": 1,
   "hotkeys": {
    "equation": "Ctrl-E",
    "itemize": "Ctrl-I"
   },
   "labels_anchors": false,
   "latex_user_defs": false,
   "report_style_numbering": false,
   "user_envs_cfg": false
  },
  "varInspector": {
   "cols": {
    "lenName": 16,
    "lenType": 16,
    "lenVar": 40
   },
   "kernels_config": {
    "python": {
     "delete_cmd_postfix": "",
     "delete_cmd_prefix": "del ",
     "library": "var_list.py",
     "varRefreshCmd": "print(var_dic_list())"
    },
    "r": {
     "delete_cmd_postfix": ") ",
     "delete_cmd_prefix": "rm(",
     "library": "var_list.r",
     "varRefreshCmd": "cat(var_dic_list()) "
    }
   },
   "types_to_exclude": [
    "module",
    "function",
    "builtin_function_or_method",
    "instance",
    "_Feature"
   ],
   "window_display": false
  }
 },
 "nbformat": 4,
 "nbformat_minor": 5
}
