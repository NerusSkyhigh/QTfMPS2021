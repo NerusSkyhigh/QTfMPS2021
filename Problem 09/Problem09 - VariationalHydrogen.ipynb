{
 "cells": [
  {
   "cell_type": "code",
   "execution_count": 1,
   "id": "fluid-battle",
   "metadata": {
    "ExecuteTime": {
     "end_time": "2021-06-13T15:45:29.969819Z",
     "start_time": "2021-06-13T15:44:51.074618Z"
    }
   },
   "outputs": [],
   "source": [
    "import numpy as np\n",
    "from scipy.special import eval_genlaguerre, genlaguerre\n",
    "from scipy.integrate import quad\n",
    "from scipy.special import factorial, factorial2\n",
    "\n",
    "N = 25\n",
    "mu = 1\n",
    "nu = 1\n",
    "\n",
    "# Parte confrontata \n",
    "omega = 2*nu/mu\n",
    "\n",
    "E = dict()\n",
    "\n",
    "prefac = [np.sqrt(\n",
    "            np.sqrt( 2* np.power(nu, 3)/np.pi) * \\\n",
    "            ( np.power(2, n+3)*factorial(n)/factorial2(2*n+1))) for n in range(N)]\n",
    "\n",
    "def phi(r, n):\n",
    "    return prefac[n]*np.exp( -nu* np.power(r, 2) ) * \\\n",
    "           eval_genlaguerre(n, 0.5, 2*nu*np.power(r, 2) )\n",
    "\n",
    "\n",
    "def V(r):\n",
    "    return -nu*omega*np.power(r,2) - np.power(r,-1)\n",
    "\n",
    "\n",
    "def integrand(r, i, j):\n",
    "    ret = np.power(r, 2) * V(r) * phi(r, i)  * phi(r, j)\n",
    "    return ret\n",
    "\n",
    "def norm(r, i, j):\n",
    "    ret = phi(r, i) * phi(r, j) #* np.power(r, 2)\n",
    "    return ret"
   ]
  },
  {
   "cell_type": "code",
   "execution_count": 2,
   "id": "informative-river",
   "metadata": {
    "ExecuteTime": {
     "end_time": "2021-06-13T15:45:34.116770Z",
     "start_time": "2021-06-13T15:45:29.970656Z"
    }
   },
   "outputs": [
    {
     "name": "stdout",
     "output_type": "stream",
     "text": [
      "1 Hamiltonian\n"
     ]
    }
   ],
   "source": [
    "omega = 2*nu/mu\n",
    "print(nu, \"Hamiltonian\")\n",
    "\n",
    "H = np.zeros((N,N))\n",
    "for i in range(H.shape[0]):\n",
    "    for j in range(i, H.shape[1]):\n",
    "        int_f, err = quad(integrand, 0, 100, args=(i, j), limit=100)\n",
    "        #int_n,err_n= quad(norm, 1e-5, 20, args=(i, j), limit=100)\n",
    "\n",
    "        H[i, j] = int_f #/ int_n\n",
    "        H[j, i] = H[i, j]\n",
    "\n",
    "        if i == j:\n",
    "            H[i, j] += omega*(2*i + 1.5)\n",
    "\n",
    "E[str(nu)] = np.zeros(N)\n",
    "\n",
    "for i in range(N, 0, -1):\n",
    "    eigenvalues, eigenvectors = np.linalg.eig(H[:i, :i])\n",
    "    E[str(nu)][i-1] = np.min(eigenvalues)"
   ]
  },
  {
   "cell_type": "code",
   "execution_count": 3,
   "id": "grand-retention",
   "metadata": {
    "ExecuteTime": {
     "end_time": "2021-06-13T15:45:42.599869Z",
     "start_time": "2021-06-13T15:45:34.118772Z"
    }
   },
   "outputs": [
    {
     "data": {
      "image/png": "[encoded data removed]",
      "text/plain": [
       "<Figure size 1080x504 with 1 Axes>"
      ]
     },
     "metadata": {
      "needs_background": "light"
     },
     "output_type": "display_data"
    }
   ],
   "source": [
    "import matplotlib.pyplot as plt\n",
    "\n",
    "plt.figure(figsize=(15, 7))\n",
    "\n",
    "plt.plot(range(1, N+1), E[str(nu)], marker='o', color='red', label=str(nu));\n",
    "    \n",
    "plt.axhline(-0.5)\n",
    "plt.legend()\n",
    "plt.grid();"
   ]
  }
 ],
 "metadata": {
  "kernelspec": {
   "display_name": "Python 3",
   "language": "python",
   "name": "python3"
  },
  "language_info": {
   "codemirror_mode": {
    "name": "ipython",
    "version": 3
   },
   "file_extension": ".py",
   "mimetype": "text/x-python",
   "name": "python",
   "nbconvert_exporter": "python",
   "pygments_lexer": "ipython3",
   "version": "3.7.10"
  },
  "latex_envs": {
   "LaTeX_envs_menu_present": true,
   "autoclose": false,
   "autocomplete": true,
   "bibliofile": "biblio.bib",
   "cite_by": "apalike",
   "current_citInitial": 1,
   "eqLabelWithNumbers": true,
   "eqNumInitial": 1,
   "hotkeys": {
    "equation": "Ctrl-E",
    "itemize": "Ctrl-I"
   },
   "labels_anchors": false,
   "latex_user_defs": false,
   "report_style_numbering": false,
   "user_envs_cfg": false
  },
  "varInspector": {
   "cols": {
    "lenName": 16,
    "lenType": 16,
    "lenVar": 40
   },
   "kernels_config": {
    "python": {
     "delete_cmd_postfix": "",
     "delete_cmd_prefix": "del ",
     "library": "var_list.py",
     "varRefreshCmd": "print(var_dic_list())"
    },
    "r": {
     "delete_cmd_postfix": ") ",
     "delete_cmd_prefix": "rm(",
     "library": "var_list.r",
     "varRefreshCmd": "cat(var_dic_list()) "
    }
   },
   "types_to_exclude": [
    "module",
    "function",
    "builtin_function_or_method",
    "instance",
    "_Feature"
   ],
   "window_display": false
  }
 },
 "nbformat": 4,
 "nbformat_minor": 5
}
