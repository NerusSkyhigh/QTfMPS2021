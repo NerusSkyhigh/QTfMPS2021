{
 "cells": [
  {
   "cell_type": "code",
   "execution_count": 125,
   "id": "fluid-battle",
   "metadata": {
    "ExecuteTime": {
     "end_time": "2021-04-24T23:08:32.993815Z",
     "start_time": "2021-04-24T23:08:32.980850Z"
    }
   },
   "outputs": [],
   "source": [
    "import numpy as np\n",
    "from scipy.special import eval_genlaguerre, genlaguerre\n",
    "from scipy.integrate import quad\n",
    "\n",
    "N = 100\n",
    "mu = 1\n",
    "omega = .1 #1/100\n",
    "f = mu * omega / 2\n",
    "\n",
    "def phi(r, n):\n",
    "    return np.exp( -f* np.power(r, 2) ) * \\\n",
    "           eval_genlaguerre(n, 0.5, 2*f*np.power(r, 2))\n",
    "\n",
    "\n",
    "def V(r):\n",
    "    return -0.5*mu*np.power(r*omega,2) - np.power(r,-1)\n",
    "\n",
    "\n",
    "def integrand(r, i, j):\n",
    "    ret = phi(r, i) * V(r) * phi(r, j) * np.power(r, 2)\n",
    "    return ret\n",
    "\n",
    "def norm(r, i, j):\n",
    "    ret = phi(r, i) * phi(r, j) #* np.power(r, 2)\n",
    "    return ret"
   ]
  },
  {
   "cell_type": "code",
   "execution_count": 130,
   "id": "informative-river",
   "metadata": {
    "ExecuteTime": {
     "end_time": "2021-04-24T23:11:58.121111Z",
     "start_time": "2021-04-24T23:09:35.619575Z"
    }
   },
   "outputs": [],
   "source": [
    "H = np.zeros((N,N))\n",
    "\n",
    "for i in range(H.shape[0]):\n",
    "    for j in range(i, H.shape[1]):\n",
    "        int_f, err = quad(integrand, 1e-4, 30, args=(i, j), limit=100)\n",
    "        int_n,err_n= quad(norm, 1e-4, 30, args=(i, j), limit=100)\n",
    "\n",
    "        H[i, j] = int_f / int_n\n",
    "        H[j, i] = H[i, j]\n",
    "\n",
    "        if i == j:\n",
    "            H[i, j] += omega*(2*i + 1.5)\n",
    "        \n",
    "#print(H)"
   ]
  },
  {
   "cell_type": "code",
   "execution_count": 131,
   "id": "international-joining",
   "metadata": {
    "ExecuteTime": {
     "end_time": "2021-04-24T23:12:12.403173Z",
     "start_time": "2021-04-24T23:12:12.262883Z"
    }
   },
   "outputs": [],
   "source": [
    "E = np.zeros(N)\n",
    "\n",
    "for i in range(N, 0, -1):\n",
    "    eigenvalues, eigenvectors = np.linalg.eig(H[:i, :i])\n",
    "    E[i-1] = np.min(eigenvalues)"
   ]
  },
  {
   "cell_type": "code",
   "execution_count": 132,
   "id": "grand-retention",
   "metadata": {
    "ExecuteTime": {
     "end_time": "2021-04-24T23:12:15.196928Z",
     "start_time": "2021-04-24T23:12:15.090214Z"
    }
   },
   "outputs": [
    {
     "data": {
      "image/png": "[encoded data removed]",
      "text/plain": [
       "<Figure size 1080x504 with 1 Axes>"
      ]
     },
     "metadata": {
      "needs_background": "light"
     },
     "output_type": "display_data"
    }
   ],
   "source": [
    "import matplotlib.pyplot as plt\n",
    "\n",
    "plt.figure(figsize=(15, 7))\n",
    "plt.plot(range(0, N), E, '.');\n",
    "plt.grid();"
   ]
  },
  {
   "cell_type": "code",
   "execution_count": 129,
   "id": "median-finder",
   "metadata": {
    "ExecuteTime": {
     "end_time": "2021-04-24T23:09:20.682864Z",
     "start_time": "2021-04-24T23:09:20.668902Z"
    }
   },
   "outputs": [
    {
     "data": {
      "text/plain": [
       "array([[-2.00866821, -0.52233985, -0.64918824, ..., -0.09889412,\n",
       "        -0.09771958, -0.0969535 ],\n",
       "       [-0.52233985, -1.97861094, -0.32535216, ..., -0.12133789,\n",
       "        -0.12427656, -0.12492004],\n",
       "       [-0.64918824, -0.32535216, -1.73495083, ..., -0.05294417,\n",
       "        -0.04449642, -0.04199626],\n",
       "       ...,\n",
       "       [-0.09889412, -0.12133789, -0.05294417, ..., 19.18474689,\n",
       "        -0.36015111, -0.34756754],\n",
       "       [-0.09771958, -0.12427656, -0.04449642, ..., -0.36015111,\n",
       "        19.38745359, -0.35722985],\n",
       "       [-0.0969535 , -0.12492004, -0.04199626, ..., -0.34756754,\n",
       "        -0.35722985, 19.59056045]])"
      ]
     },
     "execution_count": 129,
     "metadata": {},
     "output_type": "execute_result"
    }
   ],
   "source": [
    "H"
   ]
  }
 ],
 "metadata": {
  "kernelspec": {
   "display_name": "Python 3",
   "language": "python",
   "name": "python3"
  },
  "language_info": {
   "codemirror_mode": {
    "name": "ipython",
    "version": 3
   },
   "file_extension": ".py",
   "mimetype": "text/x-python",
   "name": "python",
   "nbconvert_exporter": "python",
   "pygments_lexer": "ipython3",
   "version": "3.7.9"
  },
  "latex_envs": {
   "LaTeX_envs_menu_present": true,
   "autoclose": false,
   "autocomplete": true,
   "bibliofile": "biblio.bib",
   "cite_by": "apalike",
   "current_citInitial": 1,
   "eqLabelWithNumbers": true,
   "eqNumInitial": 1,
   "hotkeys": {
    "equation": "Ctrl-E",
    "itemize": "Ctrl-I"
   },
   "labels_anchors": false,
   "latex_user_defs": false,
   "report_style_numbering": false,
   "user_envs_cfg": false
  },
  "varInspector": {
   "cols": {
    "lenName": 16,
    "lenType": 16,
    "lenVar": 40
   },
   "kernels_config": {
    "python": {
     "delete_cmd_postfix": "",
     "delete_cmd_prefix": "del ",
     "library": "var_list.py",
     "varRefreshCmd": "print(var_dic_list())"
    },
    "r": {
     "delete_cmd_postfix": ") ",
     "delete_cmd_prefix": "rm(",
     "library": "var_list.r",
     "varRefreshCmd": "cat(var_dic_list()) "
    }
   },
   "types_to_exclude": [
    "module",
    "function",
    "builtin_function_or_method",
    "instance",
    "_Feature"
   ],
   "window_display": false
  }
 },
 "nbformat": 4,
 "nbformat_minor": 5
}
